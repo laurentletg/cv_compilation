{
 "cells": [
  {
   "cell_type": "code",
   "metadata": {
    "ExecuteTime": {
     "end_time": "2024-09-18T18:37:02.848753Z",
     "start_time": "2024-09-18T18:37:01.197552Z"
    }
   },
   "source": [
    "import pandas as pd\n",
    "import os\n",
    "i"
   ],
   "outputs": [
    {
     "ename": "NameError",
     "evalue": "name 'i' is not defined",
     "output_type": "error",
     "traceback": [
      "\u001B[0;31m---------------------------------------------------------------------------\u001B[0m",
      "\u001B[0;31mNameError\u001B[0m                                 Traceback (most recent call last)",
      "\u001B[0;32m<ipython-input-1-07162878efea>\u001B[0m in \u001B[0;36m<module>\u001B[0;34m\u001B[0m\n\u001B[1;32m      1\u001B[0m \u001B[0;32mimport\u001B[0m \u001B[0mpandas\u001B[0m \u001B[0;32mas\u001B[0m \u001B[0mpd\u001B[0m\u001B[0;34m\u001B[0m\u001B[0;34m\u001B[0m\u001B[0m\n\u001B[1;32m      2\u001B[0m \u001B[0;32mimport\u001B[0m \u001B[0mos\u001B[0m\u001B[0;34m\u001B[0m\u001B[0;34m\u001B[0m\u001B[0m\n\u001B[0;32m----> 3\u001B[0;31m \u001B[0mi\u001B[0m\u001B[0;34m\u001B[0m\u001B[0;34m\u001B[0m\u001B[0m\n\u001B[0m",
      "\u001B[0;31mNameError\u001B[0m: name 'i' is not defined"
     ]
    }
   ],
   "execution_count": 1
  },
  {
   "cell_type": "code",
   "metadata": {
    "ExecuteTime": {
     "end_time": "2024-09-18T18:37:19.622280Z",
     "start_time": "2024-09-18T18:37:19.619602Z"
    }
   },
   "source": [
    "# Choose directory\n",
    "path_data = 'Users/laurentletourneau-guillon/Dropbox (Personal)/CV/compilations/1_data'\n",
    "path_output= '/Users/laurentletourneau-guillon/Dropbox (Personal)/CV/compilations/3_output' "
   ],
   "outputs": [],
   "execution_count": 3
  },
  {
   "cell_type": "markdown",
   "metadata": {},
   "source": [
    "## To be improved, there are some non publication in google scholar. \n",
    "I think the best strategy is to import a baseline csv that was cleaned only for publication, then pd concat to add new listings and update the publication file. "
   ]
  },
  {
   "cell_type": "code",
   "metadata": {
    "ExecuteTime": {
     "end_time": "2024-09-18T18:37:16.812183Z",
     "start_time": "2024-09-18T18:37:16.800200Z"
    }
   },
   "source": [
    "df_core = pd.read_csv('/Users/laurentletourneau-guillon/Dropbox (Personal)/CV/compilations/1_data/citations_core_do_not_erase.csv', encoding='utf-8-sig')\n",
    "df_updated = pd.read_csv('/Users/laurentletourneau-guillon/Dropbox (Personal)/CV/compilations/1_data/citations-2.csv', encoding='utf-8-sig')"
   ],
   "outputs": [],
   "execution_count": 2
  },
  {
   "cell_type": "code",
   "metadata": {
    "ExecuteTime": {
     "end_time": "2024-09-18T18:37:22.514252Z",
     "start_time": "2024-09-18T18:37:22.494388Z"
    }
   },
   "source": [
    "df_core.head()"
   ],
   "outputs": [
    {
     "data": {
      "text/plain": [
       "                                             Authors  \\\n",
       "0  Benomar, Anass; Farzin, Behzad; Volders, David...   \n",
       "1  Darsaut, TE; Derksen, C; Farzin, B; Keough, MB...   \n",
       "2  Fontaine-Sylvestre, Cédric; Létourneau-Guillon...   \n",
       "3  Kervadec, Hoel; Bahig, Houda; Letourneau-Guill...   \n",
       "4  Moineau-Vallée, Karine; Rinfret, Justine; Luu ...   \n",
       "\n",
       "                                               Title  \\\n",
       "0  Angiographic results of surgical or endovascul...   \n",
       "1  Reliability of the Diagnosis of Cerebral Vasos...   \n",
       "2  Corticotroph tumor progression during long-ter...   \n",
       "3  Beyond pixel-wise supervision: semantic segmen...   \n",
       "4  Successful Management of Natalizumab-Associate...   \n",
       "\n",
       "                          Publication  Volume Number    Pages  Year  \\\n",
       "0                      Neuroradiology     NaN    NaN   09-Jan  2021   \n",
       "1  American Journal of Neuroradiology    42.0      3  501-507  2021   \n",
       "2                           Pituitary    24.0      2  207-215  2021   \n",
       "3                                 NaN     NaN    NaN      NaN  2021   \n",
       "4                    Current Oncology    28.0      1  203-208  2021   \n",
       "\n",
       "                                        Publisher  \n",
       "0                      Springer Berlin Heidelberg  \n",
       "1              American Journal of Neuroradiology  \n",
       "2                                     Springer US  \n",
       "3                                             NaN  \n",
       "4  Multidisciplinary Digital Publishing Institute  "
      ],
      "text/html": [
       "<div>\n",
       "<style scoped>\n",
       "    .dataframe tbody tr th:only-of-type {\n",
       "        vertical-align: middle;\n",
       "    }\n",
       "\n",
       "    .dataframe tbody tr th {\n",
       "        vertical-align: top;\n",
       "    }\n",
       "\n",
       "    .dataframe thead th {\n",
       "        text-align: right;\n",
       "    }\n",
       "</style>\n",
       "<table border=\"1\" class=\"dataframe\">\n",
       "  <thead>\n",
       "    <tr style=\"text-align: right;\">\n",
       "      <th></th>\n",
       "      <th>Authors</th>\n",
       "      <th>Title</th>\n",
       "      <th>Publication</th>\n",
       "      <th>Volume</th>\n",
       "      <th>Number</th>\n",
       "      <th>Pages</th>\n",
       "      <th>Year</th>\n",
       "      <th>Publisher</th>\n",
       "    </tr>\n",
       "  </thead>\n",
       "  <tbody>\n",
       "    <tr>\n",
       "      <th>0</th>\n",
       "      <td>Benomar, Anass; Farzin, Behzad; Volders, David...</td>\n",
       "      <td>Angiographic results of surgical or endovascul...</td>\n",
       "      <td>Neuroradiology</td>\n",
       "      <td>NaN</td>\n",
       "      <td>NaN</td>\n",
       "      <td>09-Jan</td>\n",
       "      <td>2021</td>\n",
       "      <td>Springer Berlin Heidelberg</td>\n",
       "    </tr>\n",
       "    <tr>\n",
       "      <th>1</th>\n",
       "      <td>Darsaut, TE; Derksen, C; Farzin, B; Keough, MB...</td>\n",
       "      <td>Reliability of the Diagnosis of Cerebral Vasos...</td>\n",
       "      <td>American Journal of Neuroradiology</td>\n",
       "      <td>42.0</td>\n",
       "      <td>3</td>\n",
       "      <td>501-507</td>\n",
       "      <td>2021</td>\n",
       "      <td>American Journal of Neuroradiology</td>\n",
       "    </tr>\n",
       "    <tr>\n",
       "      <th>2</th>\n",
       "      <td>Fontaine-Sylvestre, Cédric; Létourneau-Guillon...</td>\n",
       "      <td>Corticotroph tumor progression during long-ter...</td>\n",
       "      <td>Pituitary</td>\n",
       "      <td>24.0</td>\n",
       "      <td>2</td>\n",
       "      <td>207-215</td>\n",
       "      <td>2021</td>\n",
       "      <td>Springer US</td>\n",
       "    </tr>\n",
       "    <tr>\n",
       "      <th>3</th>\n",
       "      <td>Kervadec, Hoel; Bahig, Houda; Letourneau-Guill...</td>\n",
       "      <td>Beyond pixel-wise supervision: semantic segmen...</td>\n",
       "      <td>NaN</td>\n",
       "      <td>NaN</td>\n",
       "      <td>NaN</td>\n",
       "      <td>NaN</td>\n",
       "      <td>2021</td>\n",
       "      <td>NaN</td>\n",
       "    </tr>\n",
       "    <tr>\n",
       "      <th>4</th>\n",
       "      <td>Moineau-Vallée, Karine; Rinfret, Justine; Luu ...</td>\n",
       "      <td>Successful Management of Natalizumab-Associate...</td>\n",
       "      <td>Current Oncology</td>\n",
       "      <td>28.0</td>\n",
       "      <td>1</td>\n",
       "      <td>203-208</td>\n",
       "      <td>2021</td>\n",
       "      <td>Multidisciplinary Digital Publishing Institute</td>\n",
       "    </tr>\n",
       "  </tbody>\n",
       "</table>\n",
       "</div>"
      ]
     },
     "execution_count": 4,
     "metadata": {},
     "output_type": "execute_result"
    }
   ],
   "execution_count": 4
  },
  {
   "cell_type": "code",
   "metadata": {
    "ExecuteTime": {
     "end_time": "2024-09-18T18:37:25.314183Z",
     "start_time": "2024-09-18T18:37:25.310146Z"
    }
   },
   "source": [
    "# Append with updated dataframe\n",
    "df_core = df_core.append(df_updated, ignore_index=True)"
   ],
   "outputs": [],
   "execution_count": 5
  },
  {
   "metadata": {
    "SqlCellData": {
     "variableName$1": "df_sql"
    }
   },
   "cell_type": "code",
   "outputs": [],
   "execution_count": null,
   "source": "%%sql\n"
  },
  {
   "metadata": {},
   "cell_type": "code",
   "outputs": [],
   "execution_count": null,
   "source": ""
  },
  {
   "cell_type": "code",
   "metadata": {
    "ExecuteTime": {
     "end_time": "2024-09-18T18:37:27.973011Z",
     "start_time": "2024-09-18T18:37:27.958983Z"
    }
   },
   "source": [
    "# sort according to year of publicaiton\n",
    "df_core.sort_values(by=['Year'], inplace=True,ascending=False)\n",
    "df_core.head()"
   ],
   "outputs": [
    {
     "data": {
      "text/plain": [
       "                                              Authors  \\\n",
       "0   Benomar, Anass; Farzin, Behzad; Volders, David...   \n",
       "5   Nehme, Ahmad; Létourneau-Guillon, Laurent; Odi...   \n",
       "44  Lemoine, Émile; Obaid, Sami; Létourneau-Guillo...   \n",
       "1   Darsaut, TE; Derksen, C; Farzin, B; Keough, MB...   \n",
       "45  Kervadec, Hoel; Bahig, Houda; Letourneau-Guill...   \n",
       "\n",
       "                                                Title  \\\n",
       "0   Angiographic results of surgical or endovascul...   \n",
       "5   Clinical reasoning: A 36-year-old woman presen...   \n",
       "44  Facial palsy after temporal lobectomy for epil...   \n",
       "1   Reliability of the Diagnosis of Cerebral Vasos...   \n",
       "45  Beyond pixel-wise supervision for segmentation...   \n",
       "\n",
       "                              Publication  Volume Number        Pages  Year  \\\n",
       "0                          Neuroradiology     NaN    NaN       09-Jan  2021   \n",
       "5                               Neurology    96.0     11  e1585-e1589  2021   \n",
       "44  Journal of Neurosurgery: Case Lessons     1.0   17.0          NaN  2021   \n",
       "1      American Journal of Neuroradiology    42.0      3      501-507  2021   \n",
       "45        arXiv preprint arXiv:2105.00859     NaN    NaN          NaN  2021   \n",
       "\n",
       "                                            Publisher  \n",
       "0                          Springer Berlin Heidelberg  \n",
       "5   Wolters Kluwer Health, Inc. on behalf of the A...  \n",
       "44      American Association of Neurological Surgeons  \n",
       "1                  American Journal of Neuroradiology  \n",
       "45                                                NaN  "
      ],
      "text/html": [
       "<div>\n",
       "<style scoped>\n",
       "    .dataframe tbody tr th:only-of-type {\n",
       "        vertical-align: middle;\n",
       "    }\n",
       "\n",
       "    .dataframe tbody tr th {\n",
       "        vertical-align: top;\n",
       "    }\n",
       "\n",
       "    .dataframe thead th {\n",
       "        text-align: right;\n",
       "    }\n",
       "</style>\n",
       "<table border=\"1\" class=\"dataframe\">\n",
       "  <thead>\n",
       "    <tr style=\"text-align: right;\">\n",
       "      <th></th>\n",
       "      <th>Authors</th>\n",
       "      <th>Title</th>\n",
       "      <th>Publication</th>\n",
       "      <th>Volume</th>\n",
       "      <th>Number</th>\n",
       "      <th>Pages</th>\n",
       "      <th>Year</th>\n",
       "      <th>Publisher</th>\n",
       "    </tr>\n",
       "  </thead>\n",
       "  <tbody>\n",
       "    <tr>\n",
       "      <th>0</th>\n",
       "      <td>Benomar, Anass; Farzin, Behzad; Volders, David...</td>\n",
       "      <td>Angiographic results of surgical or endovascul...</td>\n",
       "      <td>Neuroradiology</td>\n",
       "      <td>NaN</td>\n",
       "      <td>NaN</td>\n",
       "      <td>09-Jan</td>\n",
       "      <td>2021</td>\n",
       "      <td>Springer Berlin Heidelberg</td>\n",
       "    </tr>\n",
       "    <tr>\n",
       "      <th>5</th>\n",
       "      <td>Nehme, Ahmad; Létourneau-Guillon, Laurent; Odi...</td>\n",
       "      <td>Clinical reasoning: A 36-year-old woman presen...</td>\n",
       "      <td>Neurology</td>\n",
       "      <td>96.0</td>\n",
       "      <td>11</td>\n",
       "      <td>e1585-e1589</td>\n",
       "      <td>2021</td>\n",
       "      <td>Wolters Kluwer Health, Inc. on behalf of the A...</td>\n",
       "    </tr>\n",
       "    <tr>\n",
       "      <th>44</th>\n",
       "      <td>Lemoine, Émile; Obaid, Sami; Létourneau-Guillo...</td>\n",
       "      <td>Facial palsy after temporal lobectomy for epil...</td>\n",
       "      <td>Journal of Neurosurgery: Case Lessons</td>\n",
       "      <td>1.0</td>\n",
       "      <td>17.0</td>\n",
       "      <td>NaN</td>\n",
       "      <td>2021</td>\n",
       "      <td>American Association of Neurological Surgeons</td>\n",
       "    </tr>\n",
       "    <tr>\n",
       "      <th>1</th>\n",
       "      <td>Darsaut, TE; Derksen, C; Farzin, B; Keough, MB...</td>\n",
       "      <td>Reliability of the Diagnosis of Cerebral Vasos...</td>\n",
       "      <td>American Journal of Neuroradiology</td>\n",
       "      <td>42.0</td>\n",
       "      <td>3</td>\n",
       "      <td>501-507</td>\n",
       "      <td>2021</td>\n",
       "      <td>American Journal of Neuroradiology</td>\n",
       "    </tr>\n",
       "    <tr>\n",
       "      <th>45</th>\n",
       "      <td>Kervadec, Hoel; Bahig, Houda; Letourneau-Guill...</td>\n",
       "      <td>Beyond pixel-wise supervision for segmentation...</td>\n",
       "      <td>arXiv preprint arXiv:2105.00859</td>\n",
       "      <td>NaN</td>\n",
       "      <td>NaN</td>\n",
       "      <td>NaN</td>\n",
       "      <td>2021</td>\n",
       "      <td>NaN</td>\n",
       "    </tr>\n",
       "  </tbody>\n",
       "</table>\n",
       "</div>"
      ]
     },
     "execution_count": 6,
     "metadata": {},
     "output_type": "execute_result"
    }
   ],
   "execution_count": 6
  },
  {
   "cell_type": "code",
   "execution_count": 7,
   "metadata": {},
   "outputs": [
    {
     "data": {
      "text/plain": [
       "(46, 8)"
      ]
     },
     "execution_count": 7,
     "metadata": {},
     "output_type": "execute_result"
    }
   ],
   "source": [
    "# Check the number of rows in the data frame\n",
    "df_core.shape"
   ]
  },
  {
   "cell_type": "code",
   "metadata": {
    "ExecuteTime": {
     "end_time": "2024-09-18T18:37:41.311266Z",
     "start_time": "2024-09-18T18:37:41.305996Z"
    }
   },
   "source": [
    "# Drop duplicated values\n",
    "df_core2= df_core.drop_duplicates()"
   ],
   "outputs": [],
   "execution_count": 7
  },
  {
   "cell_type": "code",
   "metadata": {
    "ExecuteTime": {
     "end_time": "2024-09-18T18:37:47.404413Z",
     "start_time": "2024-09-18T18:37:47.400782Z"
    }
   },
   "source": [
    "# Check if the same number of values after \n",
    "df_core2.shape"
   ],
   "outputs": [
    {
     "data": {
      "text/plain": [
       "(46, 8)"
      ]
     },
     "execution_count": 8,
     "metadata": {},
     "output_type": "execute_result"
    }
   ],
   "execution_count": 8
  },
  {
   "cell_type": "code",
   "metadata": {
    "ExecuteTime": {
     "end_time": "2024-09-18T18:38:25.465540Z",
     "start_time": "2024-09-18T18:38:23.776920Z"
    }
   },
   "source": [
    "try:\n",
    "    Current_year= int(input('What is the current year ?'))\n",
    "except Exception:\n",
    "    print('No input so 2021 is the default')\n",
    "    Current_year=2021\n",
    "\n",
    "print(Current_year)\n"
   ],
   "outputs": [
    {
     "name": "stdout",
     "output_type": "stream",
     "text": [
      "2023\n"
     ]
    }
   ],
   "execution_count": 12
  },
  {
   "cell_type": "code",
   "metadata": {
    "ExecuteTime": {
     "end_time": "2024-09-18T18:38:27.163526Z",
     "start_time": "2024-09-18T18:38:27.156208Z"
    }
   },
   "source": [
    "# loop through threshold for filtering pubication in last 3 and 1 years\n",
    "# Build a list of years depending on current year\n",
    "\n",
    "years =[Current_year-20,Current_year-8, Current_year-5, Current_year-3, Current_year-2, Current_year-1]\n",
    "print(years)\n",
    "\n",
    "df_list = []\n",
    "for year in years:\n",
    "    is_year=df_core['Year']>=year\n",
    "    df_year=df_core[is_year]\n",
    "    df_list.append(df_year)\n",
    "\n",
    "\n",
    "    "
   ],
   "outputs": [
    {
     "name": "stdout",
     "output_type": "stream",
     "text": [
      "[2003, 2015, 2018, 2020, 2021, 2022]\n"
     ]
    }
   ],
   "execution_count": 13
  },
  {
   "cell_type": "code",
   "metadata": {
    "ExecuteTime": {
     "end_time": "2024-09-18T18:38:29.642387Z",
     "start_time": "2024-09-18T18:38:29.634797Z"
    }
   },
   "source": [
    "# Check that it works\n",
    "df_list[-1].head()"
   ],
   "outputs": [
    {
     "data": {
      "text/plain": [
       "Empty DataFrame\n",
       "Columns: [Authors, Title, Publication, Volume, Number, Pages, Year, Publisher]\n",
       "Index: []"
      ],
      "text/html": [
       "<div>\n",
       "<style scoped>\n",
       "    .dataframe tbody tr th:only-of-type {\n",
       "        vertical-align: middle;\n",
       "    }\n",
       "\n",
       "    .dataframe tbody tr th {\n",
       "        vertical-align: top;\n",
       "    }\n",
       "\n",
       "    .dataframe thead th {\n",
       "        text-align: right;\n",
       "    }\n",
       "</style>\n",
       "<table border=\"1\" class=\"dataframe\">\n",
       "  <thead>\n",
       "    <tr style=\"text-align: right;\">\n",
       "      <th></th>\n",
       "      <th>Authors</th>\n",
       "      <th>Title</th>\n",
       "      <th>Publication</th>\n",
       "      <th>Volume</th>\n",
       "      <th>Number</th>\n",
       "      <th>Pages</th>\n",
       "      <th>Year</th>\n",
       "      <th>Publisher</th>\n",
       "    </tr>\n",
       "  </thead>\n",
       "  <tbody>\n",
       "  </tbody>\n",
       "</table>\n",
       "</div>"
      ]
     },
     "execution_count": 14,
     "metadata": {},
     "output_type": "execute_result"
    }
   ],
   "execution_count": 14
  },
  {
   "cell_type": "code",
   "execution_count": 15,
   "metadata": {},
   "outputs": [],
   "source": [
    "#sanity check \n",
    "assert(len(df_list) == len(years))"
   ]
  },
  {
   "cell_type": "code",
   "execution_count": 16,
   "metadata": {},
   "outputs": [],
   "source": [
    "# Write a csv containing the list of publication depending on the year\n",
    "for i,j in zip(df_list, years):\n",
    "    i.to_csv(os.path.join(path_output, 'Publications depuis {}.csv'.format(j)))"
   ]
  },
  {
   "cell_type": "code",
   "execution_count": 17,
   "metadata": {},
   "outputs": [],
   "source": [
    "#isolate the author column including removing accesnts ( https://stackoverflow.com/questions/37926248/how-to-remove-accents-from-values-in-columns) and convert to list\n",
    "# build a list to be used in a nested for loop below\n",
    "author_list = []\n",
    "for i in df_list:\n",
    "    b = i['Authors'].str.normalize('NFKD').str.encode('ascii', errors='ignore').str.decode('utf-8')\n",
    "    a = b.to_list()\n",
    "    author_list.append(a) \n"
   ]
  },
  {
   "cell_type": "code",
   "execution_count": 18,
   "metadata": {},
   "outputs": [
    {
     "name": "stdout",
     "output_type": "stream",
     "text": [
      "46\n",
      "41\n",
      "34\n",
      "24\n",
      "23\n",
      "15\n"
     ]
    }
   ],
   "source": [
    "# Sanity check, numbers should decrease\n",
    "for i in author_list:\n",
    "    print(len(i))"
   ]
  },
  {
   "cell_type": "code",
   "execution_count": 19,
   "metadata": {},
   "outputs": [
    {
     "name": "stdout",
     "output_type": "stream",
     "text": [
      "Kervadec, Hoel; Bahig, Houda; Letourneau-Guillon, Laurent; Dolz, Jose; Ayed, Ismail Ben; \n",
      "Benomar, Anass; Farzin, Behzad; Volders, David; Gevry, Guylaine; Zehr, Justine; Fahed, Robert; Boisseau, William; Gentric, Jean-Christophe; Magro, Elsa; Nico, Lorena; \n",
      "Fontaine-Sylvestre, Cedric; Letourneau-Guillon, Laurent; Moumdjian, Robert A; Berthelet, France; Lacroix, Andre; \n",
      "Moineau-Vallee, Karine; Rinfret, Justine; Luu Hoai, My Hanh; St-Louis, Valerie; Berthelet, France; Letourneau-Guillon, Laurent; Lemieux-Blanchard, Emilie; Prat, Alexandre; Adam, Jean-Philippe; \n",
      "Darsaut, TE; Derksen, C; Farzin, B; Keough, MB; Fahed, R; Boisseau, W; Letourneau-Guillon, L; Januel, A-C; Weill, A; Roy, D; \n",
      "Kervadec, Hoel; Bahig, Houda; Letourneau-Guillon, Laurent; Dolz, Jose; Ayed, Ismail Ben; \n",
      "Nehme, Ahmad; Letourneau-Guillon, Laurent; Odier, Celine; Poppe, Alexandre Y; \n",
      "Lemoine, Emile; Obaid, Sami; Letourneau-Guillon, Laurent; Bouthillier, Alain; \n",
      "Provencher, V Cote; Fortin, B; Nguyen-Tan, PF; Filion, EJ; Ballivy, O; Christopoulos, A; Belair, M; Letourneau-Guillon, L; Bissada, E; Guertin, L; \n",
      "Nehme, Ahmad; Letourneau-Guillon, Laurent; Odier, Celine; Poppe, Alexandre; \n",
      "Brisson, Melanie; Brodeur, Catherine; LetourneauGuillon, Laurent; Masellis, Mario; Stoessl, Jon; Tamm, Alex; Zukotynski, Katherine; Ismail, Zahinoor; Gauthier, Serge; RosaNeto, Pedro; \n",
      "Nehme, Ahmad; Gioia, Laura C; Jacquin, Gregory; Poppe, Alexandre Y; Letourneau-Guillon, Laurent; Odier, Celine; \n",
      "Letourneau-Guillon, Laurent; Camirand, David; Guilbert, Francois; Forghani, Reza; \n",
      "Ayrignac, Xavier; Letourneau-Guillon, Laurent; Carra-Dalliere, Clarisse; Duquette, Pierre; Girard, Marc; Poirier, Jose; Lahav, Boaz; Larochelle, Catherine; Prat, Alexandre; \n",
      "Letourneau-Guillon, L; Farzin, B; Darsaut, TE; Kotowski, M; Guilbert, F; Chagnon, M; Diouf, A; Roy, D; Weill, A; Lemus, M; \n",
      "Roy, Maxim; Robin, Florian; Grabs, Detlev; Letourneau-Guillon, Laurent; Ruel, Monique; Girard, Francois; Garneau, Sebastien; \n",
      "Tabet, Paul; Saydy, Nadim; LetourneauGuillon, Laurent; Gologan, Olga; Bissada, Eric; Ayad, Tareck; Tabet, JeanClaude; Guertin, Louis; NguyenTan, Phuc Felix; Christopoulos, Apostolos; \n",
      "Zeidan, Elie; Assad, Anis; Letourneau Guillon, Laurent; Belanger, Karl; Lemieux Blanchard, Emilie; Lemieux, Bernard; Bahary, Jean-Paul; Roberge, David; G Masucci, Laura; Menard, Cynthia; \n",
      "Ajjou, Myriam Nait; Assad, Anis; Guillon, Laurent Letourneau; Belanger, Karl; Blanchard, Emilie Lemieux; Lemieux, Bernard; Bahary, Jean-Paul; Masucci, Laura G; Roberge, David; Menard, Cynthia; \n",
      "Bahig, Houda; Lapointe, Andreanne; Bedwani, Stephane; de Guise, Jacques; Lambert, Louise; Filion, Edith; Roberge, David; Letourneau-Guillon, Laurent; Blais, Danis; Ng, Sweet Ping; \n",
      "Demuth, Stanislas; Lasry, David E; Obaid, Sami; Letourneau-Guillon, Laurent; Chasse, Michael; Belanger, Karl; Berthelet, France; Bojanowski, Michel W; Keezer, Mark R; \n",
      "Harris, Philippe; Diouf, Ange; Guilbert, Francois; Ameur, Fatima; Letourneau-Guillon, Laurent; Menard, Cynthia; Masucci, Laura; Belair, Manon; Roberge, David; \n",
      "Bouthillier, Alain; Weil, Alexander G; Martineau, Laurence; Letourneau-Guillon, Laurent; Nguyen, Dang Khoa; \n",
      "Cabana, JeanFrancois; Gilbert, Guillaume; LetourneauGuillon, Laurent; Safi, Dima; Rouleau, Isabelle; Cossette, Patrick; Nguyen, Dang Khoa; \n",
      "Bahig, Houda; NguyenTan, Phuc Felix; Filion, Edith; Roberge, David; Thanomsack, Pensavan; de Guise, Jacques; Blais, Danis; Doucet, Robert; LetourneauGuillon, Laurent; Lambert, Louise; \n",
      "Shakeri, Mahsa; Datta, Alexandre N; Malfait, Domitille; Oser, Nadine; Letourneau-Guillon, Laurent; Major, Philippe; Srour, Myriam; Tucholka, Alan; Kadoury, Samuel; Lippe, Sarah; \n",
      "Bahig, H; Lapointe, A; Bedwani, S; Lambert, L; Filion, EJ; Roberge, D; de Guise, J; Letourneau-Guillon, L; Nguyen-Tan, PF; \n",
      "Forghani, Reza; Kelly, Hillary; Yu, Eugene; Belair, Manon; Letourneau-Guillon, Laurent; Le, Huy; Proulx, Francesca; Ong, Thomas; Tan, Xianming; Curtin, Hugh D; \n",
      "Farzin, Behzad; Fahed, Robert; Guilbert, Francois; Poppe, Alexandre Y; Daneault, Nicole; Durocher, Andre P; Lanthier, Sylvain; Boudjani, Hayet; Khoury, Naim N; Roy, Daniel; \n",
      "Shakeri, Mahsa; Lombaert, Herve; Datta, Alexandre N; Oser, Nadine; Letourneau-Guillon, Laurent; Lapointe, Laurence Vincent; Martin, Florence; Malfait, Domitille; Tucholka, Alan; Lippe, Sarah; \n",
      "Jamali, S; Fahed, Robert; Gentric, J-C; Letourneau-Guillon, Laurent; Raoult, Helene; Bing, Fabrice; Estrade, Laurent; Nguyen, Thanh Nam; Tollard, E; Ferre, J-C; \n",
      "Renoult, Edith; Lanthier, Sylvain; Rouleau, Danielle; Jodoin, Nicolas; Letourneau-Guillon, Laurent; Paquet, Michel; St-Louis, Gilles; Duclos, Alain; St-Jean, Lise; Leveille, Michel; \n",
      "Lanthier, Sylvain; Strbian, Daniel; Putaala, Jukka; Letourneau-Guillon, Laurent; Ferro, Jose M; Calabrese, Leonard H; Frosch, Matthew P; Seifert-Held, Thomas; Hietaharju, Aki; Geraldes, Ruth; \n",
      "Kassab, Ali; Tremblay, Julie; Poppe, Alexandre Y; Letourneau-Guillon, Laurent; Gallagher, Anne; Nguyen, Dang Khoa; \n",
      "Letourneau-Guillon, Laurent; Cruz, Juan Pablo; Krings, Timo; \n",
      "Traboulsee, Anthony; Letourneau-Guillon, Laurent; Freedman, Mark Steven; OConnor, Paul W; Bharatha, Aditya; Chakraborty, Santanu; Girard, J Marc; Giuliani, Fabrizio; Lysack, John T; Marriott, James J; \n",
      "Bojanowski, Michel W; Seizeur, Romuald; Effendi, Khaled; Bourgouin, Patrick; Magro, Elsa; Letourneau-Guillon, Laurent; \n",
      "Bahig, H; Simard, D; Letourneau-Guillon, L; Roberge, D; Donath, D; Wong, P; Filion, E; Beliveau-Nadeau, D; Doucet, R; Nicholson, P; \n",
      "Moubayed, SP; L'Heureux-Lebeau, B; Christopoulos, A; Sampalis, JS; Letourneau-Guillon, L; Bissada, E; Guertin, L; Harris, PG; Danino, AM; Ayad, T; \n",
      "Bensoussan, Yael; LetourneauGuillon, Laurent; Ayad, Tareck; \n",
      "Letourneau-Guillon, L; Huynh, T; Jakobovic, R; Milwid, R; Symons, SP; Aviv, RI; \n",
      "Letourneau-Guillon, L; Krings, T; \n",
      "Letourneau-Guillon, Laurent; Faughnan, Marie E; Soulez, Gilles; Giroux, Marie-France; Oliva, Vincent L; Boucher, Louis-Martin; Dubois, Josee; Prabhudesai, Vikram; Therasse, Eric; \n",
      "Letourneau-Guillon, Laurent; Audet, Pascale; Plasse, Marylene; Lepanto, Luigi; \n",
      "Naggara, O; Letourneau-Guillon, L; Mellerio, C; Belair, M; Pruvo, JP; Leclerc, X; Meder, JF; Oppenheim, C; \n",
      "Letourneau-Guillon, Laurent; Soulez, Gilles; Beaudoin, Gilles; Oliva, Vincent L; Giroux, Marie-France; Qin, Zhao; Boussion, Nicolas; Therasse, Eric; De Guise, Jacques; Cloutier, Guy; \n",
      "Kervadec, Hoel; Bahig, Houda; Letourneau-Guillon, Laurent; Dolz, Jose; Ayed, Ismail Ben; \n",
      "Benomar, Anass; Farzin, Behzad; Volders, David; Gevry, Guylaine; Zehr, Justine; Fahed, Robert; Boisseau, William; Gentric, Jean-Christophe; Magro, Elsa; Nico, Lorena; \n",
      "Fontaine-Sylvestre, Cedric; Letourneau-Guillon, Laurent; Moumdjian, Robert A; Berthelet, France; Lacroix, Andre; \n",
      "Moineau-Vallee, Karine; Rinfret, Justine; Luu Hoai, My Hanh; St-Louis, Valerie; Berthelet, France; Letourneau-Guillon, Laurent; Lemieux-Blanchard, Emilie; Prat, Alexandre; Adam, Jean-Philippe; \n",
      "Darsaut, TE; Derksen, C; Farzin, B; Keough, MB; Fahed, R; Boisseau, W; Letourneau-Guillon, L; Januel, A-C; Weill, A; Roy, D; \n",
      "Kervadec, Hoel; Bahig, Houda; Letourneau-Guillon, Laurent; Dolz, Jose; Ayed, Ismail Ben; \n",
      "Nehme, Ahmad; Letourneau-Guillon, Laurent; Odier, Celine; Poppe, Alexandre Y; \n",
      "Lemoine, Emile; Obaid, Sami; Letourneau-Guillon, Laurent; Bouthillier, Alain; \n",
      "Provencher, V Cote; Fortin, B; Nguyen-Tan, PF; Filion, EJ; Ballivy, O; Christopoulos, A; Belair, M; Letourneau-Guillon, L; Bissada, E; Guertin, L; \n",
      "Nehme, Ahmad; Letourneau-Guillon, Laurent; Odier, Celine; Poppe, Alexandre; \n",
      "Brisson, Melanie; Brodeur, Catherine; LetourneauGuillon, Laurent; Masellis, Mario; Stoessl, Jon; Tamm, Alex; Zukotynski, Katherine; Ismail, Zahinoor; Gauthier, Serge; RosaNeto, Pedro; \n",
      "Nehme, Ahmad; Gioia, Laura C; Jacquin, Gregory; Poppe, Alexandre Y; Letourneau-Guillon, Laurent; Odier, Celine; \n",
      "Letourneau-Guillon, Laurent; Camirand, David; Guilbert, Francois; Forghani, Reza; \n",
      "Ayrignac, Xavier; Letourneau-Guillon, Laurent; Carra-Dalliere, Clarisse; Duquette, Pierre; Girard, Marc; Poirier, Jose; Lahav, Boaz; Larochelle, Catherine; Prat, Alexandre; \n",
      "Letourneau-Guillon, L; Farzin, B; Darsaut, TE; Kotowski, M; Guilbert, F; Chagnon, M; Diouf, A; Roy, D; Weill, A; Lemus, M; \n",
      "Roy, Maxim; Robin, Florian; Grabs, Detlev; Letourneau-Guillon, Laurent; Ruel, Monique; Girard, Francois; Garneau, Sebastien; \n",
      "Tabet, Paul; Saydy, Nadim; LetourneauGuillon, Laurent; Gologan, Olga; Bissada, Eric; Ayad, Tareck; Tabet, JeanClaude; Guertin, Louis; NguyenTan, Phuc Felix; Christopoulos, Apostolos; \n",
      "Zeidan, Elie; Assad, Anis; Letourneau Guillon, Laurent; Belanger, Karl; Lemieux Blanchard, Emilie; Lemieux, Bernard; Bahary, Jean-Paul; Roberge, David; G Masucci, Laura; Menard, Cynthia; \n",
      "Ajjou, Myriam Nait; Assad, Anis; Guillon, Laurent Letourneau; Belanger, Karl; Blanchard, Emilie Lemieux; Lemieux, Bernard; Bahary, Jean-Paul; Masucci, Laura G; Roberge, David; Menard, Cynthia; \n",
      "Bahig, Houda; Lapointe, Andreanne; Bedwani, Stephane; de Guise, Jacques; Lambert, Louise; Filion, Edith; Roberge, David; Letourneau-Guillon, Laurent; Blais, Danis; Ng, Sweet Ping; \n",
      "Demuth, Stanislas; Lasry, David E; Obaid, Sami; Letourneau-Guillon, Laurent; Chasse, Michael; Belanger, Karl; Berthelet, France; Bojanowski, Michel W; Keezer, Mark R; \n",
      "Harris, Philippe; Diouf, Ange; Guilbert, Francois; Ameur, Fatima; Letourneau-Guillon, Laurent; Menard, Cynthia; Masucci, Laura; Belair, Manon; Roberge, David; \n",
      "Bouthillier, Alain; Weil, Alexander G; Martineau, Laurence; Letourneau-Guillon, Laurent; Nguyen, Dang Khoa; \n",
      "Cabana, JeanFrancois; Gilbert, Guillaume; LetourneauGuillon, Laurent; Safi, Dima; Rouleau, Isabelle; Cossette, Patrick; Nguyen, Dang Khoa; \n",
      "Bahig, Houda; NguyenTan, Phuc Felix; Filion, Edith; Roberge, David; Thanomsack, Pensavan; de Guise, Jacques; Blais, Danis; Doucet, Robert; LetourneauGuillon, Laurent; Lambert, Louise; \n",
      "Shakeri, Mahsa; Datta, Alexandre N; Malfait, Domitille; Oser, Nadine; Letourneau-Guillon, Laurent; Major, Philippe; Srour, Myriam; Tucholka, Alan; Kadoury, Samuel; Lippe, Sarah; \n",
      "Bahig, H; Lapointe, A; Bedwani, S; Lambert, L; Filion, EJ; Roberge, D; de Guise, J; Letourneau-Guillon, L; Nguyen-Tan, PF; \n",
      "Forghani, Reza; Kelly, Hillary; Yu, Eugene; Belair, Manon; Letourneau-Guillon, Laurent; Le, Huy; Proulx, Francesca; Ong, Thomas; Tan, Xianming; Curtin, Hugh D; \n",
      "Farzin, Behzad; Fahed, Robert; Guilbert, Francois; Poppe, Alexandre Y; Daneault, Nicole; Durocher, Andre P; Lanthier, Sylvain; Boudjani, Hayet; Khoury, Naim N; Roy, Daniel; \n",
      "Shakeri, Mahsa; Lombaert, Herve; Datta, Alexandre N; Oser, Nadine; Letourneau-Guillon, Laurent; Lapointe, Laurence Vincent; Martin, Florence; Malfait, Domitille; Tucholka, Alan; Lippe, Sarah; \n",
      "Jamali, S; Fahed, Robert; Gentric, J-C; Letourneau-Guillon, Laurent; Raoult, Helene; Bing, Fabrice; Estrade, Laurent; Nguyen, Thanh Nam; Tollard, E; Ferre, J-C; \n",
      "Renoult, Edith; Lanthier, Sylvain; Rouleau, Danielle; Jodoin, Nicolas; Letourneau-Guillon, Laurent; Paquet, Michel; St-Louis, Gilles; Duclos, Alain; St-Jean, Lise; Leveille, Michel; \n",
      "Lanthier, Sylvain; Strbian, Daniel; Putaala, Jukka; Letourneau-Guillon, Laurent; Ferro, Jose M; Calabrese, Leonard H; Frosch, Matthew P; Seifert-Held, Thomas; Hietaharju, Aki; Geraldes, Ruth; \n",
      "Kassab, Ali; Tremblay, Julie; Poppe, Alexandre Y; Letourneau-Guillon, Laurent; Gallagher, Anne; Nguyen, Dang Khoa; \n",
      "Letourneau-Guillon, Laurent; Cruz, Juan Pablo; Krings, Timo; \n",
      "Traboulsee, Anthony; Letourneau-Guillon, Laurent; Freedman, Mark Steven; OConnor, Paul W; Bharatha, Aditya; Chakraborty, Santanu; Girard, J Marc; Giuliani, Fabrizio; Lysack, John T; Marriott, James J; \n",
      "Bojanowski, Michel W; Seizeur, Romuald; Effendi, Khaled; Bourgouin, Patrick; Magro, Elsa; Letourneau-Guillon, Laurent; \n",
      "Bahig, H; Simard, D; Letourneau-Guillon, L; Roberge, D; Donath, D; Wong, P; Filion, E; Beliveau-Nadeau, D; Doucet, R; Nicholson, P; \n",
      "Moubayed, SP; L'Heureux-Lebeau, B; Christopoulos, A; Sampalis, JS; Letourneau-Guillon, L; Bissada, E; Guertin, L; Harris, PG; Danino, AM; Ayad, T; \n",
      "Bensoussan, Yael; LetourneauGuillon, Laurent; Ayad, Tareck; \n",
      "Letourneau-Guillon, L; Huynh, T; Jakobovic, R; Milwid, R; Symons, SP; Aviv, RI; \n",
      "Kervadec, Hoel; Bahig, Houda; Letourneau-Guillon, Laurent; Dolz, Jose; Ayed, Ismail Ben; \n",
      "Benomar, Anass; Farzin, Behzad; Volders, David; Gevry, Guylaine; Zehr, Justine; Fahed, Robert; Boisseau, William; Gentric, Jean-Christophe; Magro, Elsa; Nico, Lorena; \n",
      "Fontaine-Sylvestre, Cedric; Letourneau-Guillon, Laurent; Moumdjian, Robert A; Berthelet, France; Lacroix, Andre; \n",
      "Moineau-Vallee, Karine; Rinfret, Justine; Luu Hoai, My Hanh; St-Louis, Valerie; Berthelet, France; Letourneau-Guillon, Laurent; Lemieux-Blanchard, Emilie; Prat, Alexandre; Adam, Jean-Philippe; \n",
      "Darsaut, TE; Derksen, C; Farzin, B; Keough, MB; Fahed, R; Boisseau, W; Letourneau-Guillon, L; Januel, A-C; Weill, A; Roy, D; \n",
      "Kervadec, Hoel; Bahig, Houda; Letourneau-Guillon, Laurent; Dolz, Jose; Ayed, Ismail Ben; \n",
      "Nehme, Ahmad; Letourneau-Guillon, Laurent; Odier, Celine; Poppe, Alexandre Y; \n",
      "Lemoine, Emile; Obaid, Sami; Letourneau-Guillon, Laurent; Bouthillier, Alain; \n",
      "Provencher, V Cote; Fortin, B; Nguyen-Tan, PF; Filion, EJ; Ballivy, O; Christopoulos, A; Belair, M; Letourneau-Guillon, L; Bissada, E; Guertin, L; \n",
      "Nehme, Ahmad; Letourneau-Guillon, Laurent; Odier, Celine; Poppe, Alexandre; \n",
      "Brisson, Melanie; Brodeur, Catherine; LetourneauGuillon, Laurent; Masellis, Mario; Stoessl, Jon; Tamm, Alex; Zukotynski, Katherine; Ismail, Zahinoor; Gauthier, Serge; RosaNeto, Pedro; \n",
      "Nehme, Ahmad; Gioia, Laura C; Jacquin, Gregory; Poppe, Alexandre Y; Letourneau-Guillon, Laurent; Odier, Celine; \n",
      "Letourneau-Guillon, Laurent; Camirand, David; Guilbert, Francois; Forghani, Reza; \n",
      "Ayrignac, Xavier; Letourneau-Guillon, Laurent; Carra-Dalliere, Clarisse; Duquette, Pierre; Girard, Marc; Poirier, Jose; Lahav, Boaz; Larochelle, Catherine; Prat, Alexandre; \n",
      "Letourneau-Guillon, L; Farzin, B; Darsaut, TE; Kotowski, M; Guilbert, F; Chagnon, M; Diouf, A; Roy, D; Weill, A; Lemus, M; \n",
      "Roy, Maxim; Robin, Florian; Grabs, Detlev; Letourneau-Guillon, Laurent; Ruel, Monique; Girard, Francois; Garneau, Sebastien; \n",
      "Tabet, Paul; Saydy, Nadim; LetourneauGuillon, Laurent; Gologan, Olga; Bissada, Eric; Ayad, Tareck; Tabet, JeanClaude; Guertin, Louis; NguyenTan, Phuc Felix; Christopoulos, Apostolos; \n",
      "Zeidan, Elie; Assad, Anis; Letourneau Guillon, Laurent; Belanger, Karl; Lemieux Blanchard, Emilie; Lemieux, Bernard; Bahary, Jean-Paul; Roberge, David; G Masucci, Laura; Menard, Cynthia; \n",
      "Ajjou, Myriam Nait; Assad, Anis; Guillon, Laurent Letourneau; Belanger, Karl; Blanchard, Emilie Lemieux; Lemieux, Bernard; Bahary, Jean-Paul; Masucci, Laura G; Roberge, David; Menard, Cynthia; \n",
      "Bahig, Houda; Lapointe, Andreanne; Bedwani, Stephane; de Guise, Jacques; Lambert, Louise; Filion, Edith; Roberge, David; Letourneau-Guillon, Laurent; Blais, Danis; Ng, Sweet Ping; \n",
      "Demuth, Stanislas; Lasry, David E; Obaid, Sami; Letourneau-Guillon, Laurent; Chasse, Michael; Belanger, Karl; Berthelet, France; Bojanowski, Michel W; Keezer, Mark R; \n",
      "Harris, Philippe; Diouf, Ange; Guilbert, Francois; Ameur, Fatima; Letourneau-Guillon, Laurent; Menard, Cynthia; Masucci, Laura; Belair, Manon; Roberge, David; \n",
      "Bouthillier, Alain; Weil, Alexander G; Martineau, Laurence; Letourneau-Guillon, Laurent; Nguyen, Dang Khoa; \n",
      "Cabana, JeanFrancois; Gilbert, Guillaume; LetourneauGuillon, Laurent; Safi, Dima; Rouleau, Isabelle; Cossette, Patrick; Nguyen, Dang Khoa; \n",
      "Bahig, Houda; NguyenTan, Phuc Felix; Filion, Edith; Roberge, David; Thanomsack, Pensavan; de Guise, Jacques; Blais, Danis; Doucet, Robert; LetourneauGuillon, Laurent; Lambert, Louise; \n",
      "Shakeri, Mahsa; Datta, Alexandre N; Malfait, Domitille; Oser, Nadine; Letourneau-Guillon, Laurent; Major, Philippe; Srour, Myriam; Tucholka, Alan; Kadoury, Samuel; Lippe, Sarah; \n",
      "Bahig, H; Lapointe, A; Bedwani, S; Lambert, L; Filion, EJ; Roberge, D; de Guise, J; Letourneau-Guillon, L; Nguyen-Tan, PF; \n",
      "Forghani, Reza; Kelly, Hillary; Yu, Eugene; Belair, Manon; Letourneau-Guillon, Laurent; Le, Huy; Proulx, Francesca; Ong, Thomas; Tan, Xianming; Curtin, Hugh D; \n",
      "Farzin, Behzad; Fahed, Robert; Guilbert, Francois; Poppe, Alexandre Y; Daneault, Nicole; Durocher, Andre P; Lanthier, Sylvain; Boudjani, Hayet; Khoury, Naim N; Roy, Daniel; \n",
      "Shakeri, Mahsa; Lombaert, Herve; Datta, Alexandre N; Oser, Nadine; Letourneau-Guillon, Laurent; Lapointe, Laurence Vincent; Martin, Florence; Malfait, Domitille; Tucholka, Alan; Lippe, Sarah; \n",
      "Jamali, S; Fahed, Robert; Gentric, J-C; Letourneau-Guillon, Laurent; Raoult, Helene; Bing, Fabrice; Estrade, Laurent; Nguyen, Thanh Nam; Tollard, E; Ferre, J-C; \n",
      "Renoult, Edith; Lanthier, Sylvain; Rouleau, Danielle; Jodoin, Nicolas; Letourneau-Guillon, Laurent; Paquet, Michel; St-Louis, Gilles; Duclos, Alain; St-Jean, Lise; Leveille, Michel; \n",
      "Lanthier, Sylvain; Strbian, Daniel; Putaala, Jukka; Letourneau-Guillon, Laurent; Ferro, Jose M; Calabrese, Leonard H; Frosch, Matthew P; Seifert-Held, Thomas; Hietaharju, Aki; Geraldes, Ruth; \n",
      "Kassab, Ali; Tremblay, Julie; Poppe, Alexandre Y; Letourneau-Guillon, Laurent; Gallagher, Anne; Nguyen, Dang Khoa; \n",
      "Kervadec, Hoel; Bahig, Houda; Letourneau-Guillon, Laurent; Dolz, Jose; Ayed, Ismail Ben; \n",
      "Benomar, Anass; Farzin, Behzad; Volders, David; Gevry, Guylaine; Zehr, Justine; Fahed, Robert; Boisseau, William; Gentric, Jean-Christophe; Magro, Elsa; Nico, Lorena; \n",
      "Fontaine-Sylvestre, Cedric; Letourneau-Guillon, Laurent; Moumdjian, Robert A; Berthelet, France; Lacroix, Andre; \n",
      "Moineau-Vallee, Karine; Rinfret, Justine; Luu Hoai, My Hanh; St-Louis, Valerie; Berthelet, France; Letourneau-Guillon, Laurent; Lemieux-Blanchard, Emilie; Prat, Alexandre; Adam, Jean-Philippe; \n",
      "Darsaut, TE; Derksen, C; Farzin, B; Keough, MB; Fahed, R; Boisseau, W; Letourneau-Guillon, L; Januel, A-C; Weill, A; Roy, D; \n",
      "Kervadec, Hoel; Bahig, Houda; Letourneau-Guillon, Laurent; Dolz, Jose; Ayed, Ismail Ben; \n",
      "Nehme, Ahmad; Letourneau-Guillon, Laurent; Odier, Celine; Poppe, Alexandre Y; \n",
      "Lemoine, Emile; Obaid, Sami; Letourneau-Guillon, Laurent; Bouthillier, Alain; \n",
      "Provencher, V Cote; Fortin, B; Nguyen-Tan, PF; Filion, EJ; Ballivy, O; Christopoulos, A; Belair, M; Letourneau-Guillon, L; Bissada, E; Guertin, L; \n",
      "Nehme, Ahmad; Letourneau-Guillon, Laurent; Odier, Celine; Poppe, Alexandre; \n",
      "Brisson, Melanie; Brodeur, Catherine; LetourneauGuillon, Laurent; Masellis, Mario; Stoessl, Jon; Tamm, Alex; Zukotynski, Katherine; Ismail, Zahinoor; Gauthier, Serge; RosaNeto, Pedro; \n",
      "Nehme, Ahmad; Gioia, Laura C; Jacquin, Gregory; Poppe, Alexandre Y; Letourneau-Guillon, Laurent; Odier, Celine; \n",
      "Letourneau-Guillon, Laurent; Camirand, David; Guilbert, Francois; Forghani, Reza; \n",
      "Ayrignac, Xavier; Letourneau-Guillon, Laurent; Carra-Dalliere, Clarisse; Duquette, Pierre; Girard, Marc; Poirier, Jose; Lahav, Boaz; Larochelle, Catherine; Prat, Alexandre; \n",
      "Letourneau-Guillon, L; Farzin, B; Darsaut, TE; Kotowski, M; Guilbert, F; Chagnon, M; Diouf, A; Roy, D; Weill, A; Lemus, M; \n",
      "Roy, Maxim; Robin, Florian; Grabs, Detlev; Letourneau-Guillon, Laurent; Ruel, Monique; Girard, Francois; Garneau, Sebastien; \n",
      "Tabet, Paul; Saydy, Nadim; LetourneauGuillon, Laurent; Gologan, Olga; Bissada, Eric; Ayad, Tareck; Tabet, JeanClaude; Guertin, Louis; NguyenTan, Phuc Felix; Christopoulos, Apostolos; \n",
      "Zeidan, Elie; Assad, Anis; Letourneau Guillon, Laurent; Belanger, Karl; Lemieux Blanchard, Emilie; Lemieux, Bernard; Bahary, Jean-Paul; Roberge, David; G Masucci, Laura; Menard, Cynthia; \n",
      "Ajjou, Myriam Nait; Assad, Anis; Guillon, Laurent Letourneau; Belanger, Karl; Blanchard, Emilie Lemieux; Lemieux, Bernard; Bahary, Jean-Paul; Masucci, Laura G; Roberge, David; Menard, Cynthia; \n",
      "Bahig, Houda; Lapointe, Andreanne; Bedwani, Stephane; de Guise, Jacques; Lambert, Louise; Filion, Edith; Roberge, David; Letourneau-Guillon, Laurent; Blais, Danis; Ng, Sweet Ping; \n",
      "Demuth, Stanislas; Lasry, David E; Obaid, Sami; Letourneau-Guillon, Laurent; Chasse, Michael; Belanger, Karl; Berthelet, France; Bojanowski, Michel W; Keezer, Mark R; \n",
      "Harris, Philippe; Diouf, Ange; Guilbert, Francois; Ameur, Fatima; Letourneau-Guillon, Laurent; Menard, Cynthia; Masucci, Laura; Belair, Manon; Roberge, David; \n",
      "Bouthillier, Alain; Weil, Alexander G; Martineau, Laurence; Letourneau-Guillon, Laurent; Nguyen, Dang Khoa; \n",
      "Cabana, JeanFrancois; Gilbert, Guillaume; LetourneauGuillon, Laurent; Safi, Dima; Rouleau, Isabelle; Cossette, Patrick; Nguyen, Dang Khoa; \n",
      "Kervadec, Hoel; Bahig, Houda; Letourneau-Guillon, Laurent; Dolz, Jose; Ayed, Ismail Ben; \n",
      "Benomar, Anass; Farzin, Behzad; Volders, David; Gevry, Guylaine; Zehr, Justine; Fahed, Robert; Boisseau, William; Gentric, Jean-Christophe; Magro, Elsa; Nico, Lorena; \n",
      "Fontaine-Sylvestre, Cedric; Letourneau-Guillon, Laurent; Moumdjian, Robert A; Berthelet, France; Lacroix, Andre; \n",
      "Moineau-Vallee, Karine; Rinfret, Justine; Luu Hoai, My Hanh; St-Louis, Valerie; Berthelet, France; Letourneau-Guillon, Laurent; Lemieux-Blanchard, Emilie; Prat, Alexandre; Adam, Jean-Philippe; \n",
      "Darsaut, TE; Derksen, C; Farzin, B; Keough, MB; Fahed, R; Boisseau, W; Letourneau-Guillon, L; Januel, A-C; Weill, A; Roy, D; \n",
      "Kervadec, Hoel; Bahig, Houda; Letourneau-Guillon, Laurent; Dolz, Jose; Ayed, Ismail Ben; \n",
      "Nehme, Ahmad; Letourneau-Guillon, Laurent; Odier, Celine; Poppe, Alexandre Y; \n",
      "Lemoine, Emile; Obaid, Sami; Letourneau-Guillon, Laurent; Bouthillier, Alain; \n",
      "Provencher, V Cote; Fortin, B; Nguyen-Tan, PF; Filion, EJ; Ballivy, O; Christopoulos, A; Belair, M; Letourneau-Guillon, L; Bissada, E; Guertin, L; \n",
      "Nehme, Ahmad; Letourneau-Guillon, Laurent; Odier, Celine; Poppe, Alexandre; \n",
      "Brisson, Melanie; Brodeur, Catherine; LetourneauGuillon, Laurent; Masellis, Mario; Stoessl, Jon; Tamm, Alex; Zukotynski, Katherine; Ismail, Zahinoor; Gauthier, Serge; RosaNeto, Pedro; \n",
      "Nehme, Ahmad; Gioia, Laura C; Jacquin, Gregory; Poppe, Alexandre Y; Letourneau-Guillon, Laurent; Odier, Celine; \n",
      "Letourneau-Guillon, Laurent; Camirand, David; Guilbert, Francois; Forghani, Reza; \n",
      "Ayrignac, Xavier; Letourneau-Guillon, Laurent; Carra-Dalliere, Clarisse; Duquette, Pierre; Girard, Marc; Poirier, Jose; Lahav, Boaz; Larochelle, Catherine; Prat, Alexandre; \n",
      "Letourneau-Guillon, L; Farzin, B; Darsaut, TE; Kotowski, M; Guilbert, F; Chagnon, M; Diouf, A; Roy, D; Weill, A; Lemus, M; \n",
      "Roy, Maxim; Robin, Florian; Grabs, Detlev; Letourneau-Guillon, Laurent; Ruel, Monique; Girard, Francois; Garneau, Sebastien; \n",
      "Tabet, Paul; Saydy, Nadim; LetourneauGuillon, Laurent; Gologan, Olga; Bissada, Eric; Ayad, Tareck; Tabet, JeanClaude; Guertin, Louis; NguyenTan, Phuc Felix; Christopoulos, Apostolos; \n",
      "Zeidan, Elie; Assad, Anis; Letourneau Guillon, Laurent; Belanger, Karl; Lemieux Blanchard, Emilie; Lemieux, Bernard; Bahary, Jean-Paul; Roberge, David; G Masucci, Laura; Menard, Cynthia; \n",
      "Ajjou, Myriam Nait; Assad, Anis; Guillon, Laurent Letourneau; Belanger, Karl; Blanchard, Emilie Lemieux; Lemieux, Bernard; Bahary, Jean-Paul; Masucci, Laura G; Roberge, David; Menard, Cynthia; \n",
      "Bahig, Houda; Lapointe, Andreanne; Bedwani, Stephane; de Guise, Jacques; Lambert, Louise; Filion, Edith; Roberge, David; Letourneau-Guillon, Laurent; Blais, Danis; Ng, Sweet Ping; \n",
      "Demuth, Stanislas; Lasry, David E; Obaid, Sami; Letourneau-Guillon, Laurent; Chasse, Michael; Belanger, Karl; Berthelet, France; Bojanowski, Michel W; Keezer, Mark R; \n",
      "Harris, Philippe; Diouf, Ange; Guilbert, Francois; Ameur, Fatima; Letourneau-Guillon, Laurent; Menard, Cynthia; Masucci, Laura; Belair, Manon; Roberge, David; \n",
      "Bouthillier, Alain; Weil, Alexander G; Martineau, Laurence; Letourneau-Guillon, Laurent; Nguyen, Dang Khoa; \n",
      "Kervadec, Hoel; Bahig, Houda; Letourneau-Guillon, Laurent; Dolz, Jose; Ayed, Ismail Ben; \n",
      "Benomar, Anass; Farzin, Behzad; Volders, David; Gevry, Guylaine; Zehr, Justine; Fahed, Robert; Boisseau, William; Gentric, Jean-Christophe; Magro, Elsa; Nico, Lorena; \n",
      "Fontaine-Sylvestre, Cedric; Letourneau-Guillon, Laurent; Moumdjian, Robert A; Berthelet, France; Lacroix, Andre; \n",
      "Moineau-Vallee, Karine; Rinfret, Justine; Luu Hoai, My Hanh; St-Louis, Valerie; Berthelet, France; Letourneau-Guillon, Laurent; Lemieux-Blanchard, Emilie; Prat, Alexandre; Adam, Jean-Philippe; \n",
      "Darsaut, TE; Derksen, C; Farzin, B; Keough, MB; Fahed, R; Boisseau, W; Letourneau-Guillon, L; Januel, A-C; Weill, A; Roy, D; \n",
      "Kervadec, Hoel; Bahig, Houda; Letourneau-Guillon, Laurent; Dolz, Jose; Ayed, Ismail Ben; \n",
      "Nehme, Ahmad; Letourneau-Guillon, Laurent; Odier, Celine; Poppe, Alexandre Y; \n",
      "Lemoine, Emile; Obaid, Sami; Letourneau-Guillon, Laurent; Bouthillier, Alain; \n",
      "Provencher, V Cote; Fortin, B; Nguyen-Tan, PF; Filion, EJ; Ballivy, O; Christopoulos, A; Belair, M; Letourneau-Guillon, L; Bissada, E; Guertin, L; \n",
      "Nehme, Ahmad; Letourneau-Guillon, Laurent; Odier, Celine; Poppe, Alexandre; \n",
      "Brisson, Melanie; Brodeur, Catherine; LetourneauGuillon, Laurent; Masellis, Mario; Stoessl, Jon; Tamm, Alex; Zukotynski, Katherine; Ismail, Zahinoor; Gauthier, Serge; RosaNeto, Pedro; \n",
      "Nehme, Ahmad; Gioia, Laura C; Jacquin, Gregory; Poppe, Alexandre Y; Letourneau-Guillon, Laurent; Odier, Celine; \n",
      "Letourneau-Guillon, Laurent; Camirand, David; Guilbert, Francois; Forghani, Reza; \n",
      "Ayrignac, Xavier; Letourneau-Guillon, Laurent; Carra-Dalliere, Clarisse; Duquette, Pierre; Girard, Marc; Poirier, Jose; Lahav, Boaz; Larochelle, Catherine; Prat, Alexandre; \n",
      "Letourneau-Guillon, L; Farzin, B; Darsaut, TE; Kotowski, M; Guilbert, F; Chagnon, M; Diouf, A; Roy, D; Weill, A; Lemus, M; \n"
     ]
    }
   ],
   "source": [
    "# Sanity check\n",
    "for j in author_list:\n",
    "    for i in j:\n",
    "        print(i)"
   ]
  },
  {
   "cell_type": "code",
   "execution_count": 21,
   "metadata": {
    "scrolled": true
   },
   "outputs": [
    {
     "name": "stdout",
     "output_type": "stream",
     "text": [
      "co_author!\n",
      "co_author!\n",
      "co_author!\n",
      "co_author!\n",
      "co_author!\n",
      "co_author!\n",
      "co_author!\n",
      "co_author!\n",
      "co_author!\n",
      "co_author!\n",
      "co_author!\n",
      "co_author!\n",
      "yes this paper contains laurent ['Letourneau-Guillon, Laurent', ' Camirand, David', ' Guilbert, Francois', ' Forghani, Reza', ' ']\n",
      "co_author!\n",
      "yes this paper contains laurent ['Letourneau-Guillon, L', ' Farzin, B', ' Darsaut, TE', ' Kotowski, M', ' Guilbert, F', ' Chagnon, M', ' Diouf, A', ' Roy, D', ' Weill, A', ' Lemus, M', ' ']\n",
      "co_author!\n",
      "co_author!\n",
      "co_author!\n",
      "co_author!\n",
      "co_author!\n",
      "co_author!\n",
      "co_author!\n",
      "co_author!\n",
      "co_author!\n",
      "co_author!\n",
      "co_author!\n",
      "co_author!\n",
      "co_author!\n",
      "co_author!\n",
      "co_author!\n",
      "co_author!\n",
      "co_author!\n",
      "co_author!\n",
      "co_author!\n",
      "yes this paper contains laurent ['Letourneau-Guillon, Laurent', ' Cruz, Juan Pablo', ' Krings, Timo', ' ']\n",
      "co_author!\n",
      "Senior authorship: ['Bojanowski, Michel W', ' Seizeur, Romuald', ' Effendi, Khaled', ' Bourgouin, Patrick', ' Magro, Elsa', ' Letourneau-Guillon, Laurent', ' ']\n",
      "co_author!\n",
      "co_author!\n",
      "co_author!\n",
      "yes this paper contains laurent ['Letourneau-Guillon, L', ' Huynh, T', ' Jakobovic, R', ' Milwid, R', ' Symons, SP', ' Aviv, RI', ' ']\n",
      "yes this paper contains laurent ['Letourneau-Guillon, L', ' Krings, T', ' ']\n",
      "yes this paper contains laurent ['Letourneau-Guillon, Laurent', ' Faughnan, Marie E', ' Soulez, Gilles', ' Giroux, Marie-France', ' Oliva, Vincent L', ' Boucher, Louis-Martin', ' Dubois, Josee', ' Prabhudesai, Vikram', ' Therasse, Eric', ' ']\n",
      "yes this paper contains laurent ['Letourneau-Guillon, Laurent', ' Audet, Pascale', ' Plasse, Marylene', ' Lepanto, Luigi', ' ']\n",
      "co_author!\n",
      "yes this paper contains laurent ['Letourneau-Guillon, Laurent', ' Soulez, Gilles', ' Beaudoin, Gilles', ' Oliva, Vincent L', ' Giroux, Marie-France', ' Qin, Zhao', ' Boussion, Nicolas', ' Therasse, Eric', ' De Guise, Jacques', ' Cloutier, Guy', ' ']\n",
      "8\n",
      "1\n",
      "37\n",
      "46\n",
      "[8, 1, 37, 46]\n",
      "Aaaaaaaaa         Catégorie  Nombre depuis 2001\n",
      "0  Premier auteur                   8\n",
      "1   Auteur sénior                   1\n",
      "2       Co-auteur                  37\n",
      "3           Total                  46\n",
      "co_author!\n",
      "co_author!\n",
      "co_author!\n",
      "co_author!\n",
      "co_author!\n",
      "co_author!\n",
      "co_author!\n",
      "co_author!\n",
      "co_author!\n",
      "co_author!\n",
      "co_author!\n",
      "co_author!\n",
      "yes this paper contains laurent ['Letourneau-Guillon, Laurent', ' Camirand, David', ' Guilbert, Francois', ' Forghani, Reza', ' ']\n",
      "co_author!\n",
      "yes this paper contains laurent ['Letourneau-Guillon, L', ' Farzin, B', ' Darsaut, TE', ' Kotowski, M', ' Guilbert, F', ' Chagnon, M', ' Diouf, A', ' Roy, D', ' Weill, A', ' Lemus, M', ' ']\n",
      "co_author!\n",
      "co_author!\n",
      "co_author!\n",
      "co_author!\n",
      "co_author!\n",
      "co_author!\n",
      "co_author!\n",
      "co_author!\n",
      "co_author!\n",
      "co_author!\n",
      "co_author!\n",
      "co_author!\n",
      "co_author!\n",
      "co_author!\n",
      "co_author!\n",
      "co_author!\n",
      "co_author!\n",
      "co_author!\n",
      "co_author!\n",
      "yes this paper contains laurent ['Letourneau-Guillon, Laurent', ' Cruz, Juan Pablo', ' Krings, Timo', ' ']\n",
      "co_author!\n",
      "Senior authorship: ['Bojanowski, Michel W', ' Seizeur, Romuald', ' Effendi, Khaled', ' Bourgouin, Patrick', ' Magro, Elsa', ' Letourneau-Guillon, Laurent', ' ']\n",
      "co_author!\n",
      "co_author!\n",
      "co_author!\n",
      "yes this paper contains laurent ['Letourneau-Guillon, L', ' Huynh, T', ' Jakobovic, R', ' Milwid, R', ' Symons, SP', ' Aviv, RI', ' ']\n",
      "4\n",
      "1\n",
      "36\n",
      "41\n",
      "[4, 1, 36, 41]\n",
      "Aaaaaaaaa         Catégorie  Nombre depuis 2013\n",
      "0  Premier auteur                   4\n",
      "1   Auteur sénior                   1\n",
      "2       Co-auteur                  36\n",
      "3           Total                  41\n",
      "co_author!\n",
      "co_author!\n",
      "co_author!\n",
      "co_author!\n",
      "co_author!\n",
      "co_author!\n",
      "co_author!\n",
      "co_author!\n",
      "co_author!\n",
      "co_author!\n",
      "co_author!\n",
      "co_author!\n",
      "yes this paper contains laurent ['Letourneau-Guillon, Laurent', ' Camirand, David', ' Guilbert, Francois', ' Forghani, Reza', ' ']\n",
      "co_author!\n",
      "yes this paper contains laurent ['Letourneau-Guillon, L', ' Farzin, B', ' Darsaut, TE', ' Kotowski, M', ' Guilbert, F', ' Chagnon, M', ' Diouf, A', ' Roy, D', ' Weill, A', ' Lemus, M', ' ']\n",
      "co_author!\n",
      "co_author!\n",
      "co_author!\n",
      "co_author!\n",
      "co_author!\n",
      "co_author!\n",
      "co_author!\n",
      "co_author!\n",
      "co_author!\n",
      "co_author!\n",
      "co_author!\n",
      "co_author!\n",
      "co_author!\n",
      "co_author!\n",
      "co_author!\n",
      "co_author!\n",
      "co_author!\n",
      "co_author!\n",
      "co_author!\n",
      "2\n",
      "0\n",
      "32\n",
      "34\n",
      "[2, 0, 32, 34]\n",
      "Aaaaaaaaa         Catégorie  Nombre depuis 2016\n",
      "0  Premier auteur                   2\n",
      "1   Auteur sénior                   0\n",
      "2       Co-auteur                  32\n",
      "3           Total                  34\n",
      "co_author!\n",
      "co_author!\n",
      "co_author!\n",
      "co_author!\n",
      "co_author!\n",
      "co_author!\n",
      "co_author!\n",
      "co_author!\n",
      "co_author!\n",
      "co_author!\n",
      "co_author!\n",
      "co_author!\n",
      "yes this paper contains laurent ['Letourneau-Guillon, Laurent', ' Camirand, David', ' Guilbert, Francois', ' Forghani, Reza', ' ']\n",
      "co_author!\n",
      "yes this paper contains laurent ['Letourneau-Guillon, L', ' Farzin, B', ' Darsaut, TE', ' Kotowski, M', ' Guilbert, F', ' Chagnon, M', ' Diouf, A', ' Roy, D', ' Weill, A', ' Lemus, M', ' ']\n",
      "co_author!\n",
      "co_author!\n",
      "co_author!\n",
      "co_author!\n",
      "co_author!\n",
      "co_author!\n",
      "co_author!\n",
      "co_author!\n",
      "co_author!\n",
      "2\n",
      "0\n",
      "22\n",
      "24\n",
      "[2, 0, 22, 24]\n",
      "Aaaaaaaaa         Catégorie  Nombre depuis 2018\n",
      "0  Premier auteur                   2\n",
      "1   Auteur sénior                   0\n",
      "2       Co-auteur                  22\n",
      "3           Total                  24\n",
      "co_author!\n",
      "co_author!\n",
      "co_author!\n",
      "co_author!\n",
      "co_author!\n",
      "co_author!\n",
      "co_author!\n",
      "co_author!\n",
      "co_author!\n",
      "co_author!\n",
      "co_author!\n",
      "co_author!\n",
      "yes this paper contains laurent ['Letourneau-Guillon, Laurent', ' Camirand, David', ' Guilbert, Francois', ' Forghani, Reza', ' ']\n",
      "co_author!\n",
      "yes this paper contains laurent ['Letourneau-Guillon, L', ' Farzin, B', ' Darsaut, TE', ' Kotowski, M', ' Guilbert, F', ' Chagnon, M', ' Diouf, A', ' Roy, D', ' Weill, A', ' Lemus, M', ' ']\n",
      "co_author!\n",
      "co_author!\n",
      "co_author!\n",
      "co_author!\n",
      "co_author!\n",
      "co_author!\n",
      "co_author!\n",
      "co_author!\n",
      "2\n",
      "0\n",
      "21\n",
      "23\n",
      "[2, 0, 21, 23]\n",
      "Aaaaaaaaa         Catégorie  Nombre depuis 2019\n",
      "0  Premier auteur                   2\n",
      "1   Auteur sénior                   0\n",
      "2       Co-auteur                  21\n",
      "3           Total                  23\n",
      "co_author!\n",
      "co_author!\n",
      "co_author!\n",
      "co_author!\n",
      "co_author!\n",
      "co_author!\n",
      "co_author!\n",
      "co_author!\n",
      "co_author!\n",
      "co_author!\n",
      "co_author!\n",
      "co_author!\n",
      "yes this paper contains laurent ['Letourneau-Guillon, Laurent', ' Camirand, David', ' Guilbert, Francois', ' Forghani, Reza', ' ']\n",
      "co_author!\n",
      "yes this paper contains laurent ['Letourneau-Guillon, L', ' Farzin, B', ' Darsaut, TE', ' Kotowski, M', ' Guilbert, F', ' Chagnon, M', ' Diouf, A', ' Roy, D', ' Weill, A', ' Lemus, M', ' ']\n",
      "2\n",
      "0\n",
      "13\n",
      "15\n",
      "[2, 0, 13, 15]\n",
      "Aaaaaaaaa         Catégorie  Nombre depuis 2020\n",
      "0  Premier auteur                   2\n",
      "1   Auteur sénior                   0\n",
      "2       Co-auteur                  13\n",
      "3           Total                  15\n"
     ]
    }
   ],
   "source": [
    "# Loop through all authors for all papers, isolate each name separated by ;. Add .strip() to remove potential white space. \n",
    "# Create liste of authors (differnte categories) so that you can len() them to get number of publications\n",
    "\n",
    "df_list_authors =[] # This need in the global scope (else it will only return one list)\n",
    "for a,j in zip(years,author_list):\n",
    "    list_first_author =[]\n",
    "    list_senior_author =[]\n",
    "    list_co_author = []\n",
    "\n",
    "    for i in j:\n",
    "        str(i)\n",
    "        i.strip()\n",
    "        b = i.split(';')\n",
    "        if b[0].strip().startswith('Letourneau' or 'Létourneau'):\n",
    "            print('yes this paper contains laurent {}'.format(b))\n",
    "            list_first_author.append(b)\n",
    "        elif b[-1].strip().startswith('Letourneau' or 'Létourneau'):\n",
    "            print('Senior authorship: {}'.format(b))\n",
    "            list_senior_author.append(b)\n",
    "        # add the b[-2] because often the last position is empty\n",
    "        # WOULD ALSO NEED TO CONSIDER USING -3 IF CO-SENIOR AUTHORSHIP\n",
    "        elif b[-2].strip().startswith('Letourneau' or 'Létourneau'):\n",
    "            print('Senior authorship: {}'.format(b))\n",
    "            list_senior_author.append(b)\n",
    "        else:\n",
    "            print('co_author!')\n",
    "            list_co_author.append(b)\n",
    "        # In inner loop count the number of each publications\n",
    "    fa= len(list_first_author)\n",
    "    sa= len(list_senior_author)\n",
    "    ca= len(list_co_author)\n",
    "    tot = len(list_senior_author) + len(list_first_author) + len(list_co_author)\n",
    "    print(fa)\n",
    "    print(sa)\n",
    "    print(ca)\n",
    "    print(tot)\n",
    "    #put in a list\n",
    "    lst_num_papers = [fa, sa, ca, tot]\n",
    "    print(lst_num_papers)\n",
    "    df_summary = pd.DataFrame({'Catégorie':['Premier auteur', 'Auteur sénior', 'Co-auteur', 'Total'], 'Nombre depuis {}'.format(a):lst_num_papers})\n",
    "    print(\"Aaaaaaaaa\", df_summary)\n",
    "    df_list_authors.append(df_summary)\n",
    "    df_summary.to_csv(os.path.join(path_output, 'Nombre de publications depuis{}.csv'.format(a)))\n"
   ]
  },
  {
   "cell_type": "code",
   "execution_count": 26,
   "metadata": {},
   "outputs": [
    {
     "data": {
      "text/plain": [
       "6"
      ]
     },
     "execution_count": 26,
     "metadata": {},
     "output_type": "execute_result"
    }
   ],
   "source": [
    "len(df_list_authors)"
   ]
  },
  {
   "cell_type": "code",
   "execution_count": 27,
   "metadata": {},
   "outputs": [],
   "source": [
    "# Merge multiple dataframes using the reduce methods and a list of dataframes \n",
    "from functools import reduce\n",
    "df_merged = reduce(lambda  left,right: pd.merge(left,right,on=['Catégorie'],\n",
    "                                            how='outer'), df_list_authors)\n"
   ]
  },
  {
   "cell_type": "code",
   "execution_count": 28,
   "metadata": {},
   "outputs": [],
   "source": [
    "df_merged.to_csv(os.path.join(path_output, 'summary_of_publications.csv'))"
   ]
  },
  {
   "cell_type": "code",
   "execution_count": 29,
   "metadata": {},
   "outputs": [],
   "source": [
    "df_merged.to_excel(os.path.join(path_output, 'summary_of_publications.xlsx'))"
   ]
  },
  {
   "cell_type": "markdown",
   "metadata": {},
   "source": [
    "## Below not needed for now only for development"
   ]
  },
  {
   "cell_type": "code",
   "execution_count": null,
   "metadata": {},
   "outputs": [],
   "source": [
    "# check the number of paper for each category\n",
    "print('Number of first author:', len(list_first_author))\n",
    "print('Number of senior author:', len(list_senior_author))\n",
    "print('Number of co-author:', len(list_co_author))\n",
    "print('Total number of publication:', len(list_senior_author) + len(list_first_author) + len(list_co_author))\n"
   ]
  },
  {
   "cell_type": "code",
   "execution_count": null,
   "metadata": {},
   "outputs": [],
   "source": [
    "# Get number of paper for each category\n",
    "fa= len(list_first_author)\n",
    "sa = len(list_senior_author)\n",
    "ca= len(list_co_author)\n",
    "tot = len(list_senior_author) + len(list_first_author) + len(list_co_author)\n",
    "\n",
    "#put in a list \n",
    "lst_num_papers = [fa, sa, ca, tot]\n",
    "print(lst_num_papers)"
   ]
  },
  {
   "cell_type": "code",
   "execution_count": null,
   "metadata": {},
   "outputs": [],
   "source": [
    "# Create a dataframe with Custom Categories and corresponding number of papers\n",
    "df_summary = pd.DataFrame({'Catégorie':['Premier auteur', 'Auteur sénior', 'Co-auteur', 'Total'], 'Nombre':lst_num_papers})\n"
   ]
  },
  {
   "cell_type": "code",
   "execution_count": null,
   "metadata": {},
   "outputs": [],
   "source": [
    "# Get the stype method (see pandas documentation). Probably not needed anymore. \n",
    "df_summary.style"
   ]
  },
  {
   "cell_type": "code",
   "execution_count": null,
   "metadata": {},
   "outputs": [],
   "source": [
    "df_summary.to_markdown('test.md')"
   ]
  },
  {
   "cell_type": "code",
   "execution_count": null,
   "metadata": {},
   "outputs": [],
   "source": [
    "# Export to excel_writer, this is much better than the other method\n",
    "# See documentation and asian guy youtube video\n",
    "\n",
    "# Create a Pandas Excel writer using XlsxWriter as the engine.\n",
    "writer = pd.ExcelWriter(\"Sommaire publication.xlsx\", engine='xlsxwriter')\n",
    "\n",
    "# Convert the dataframe to an XlsxWriter Excel object.\n",
    "df_summary.to_excel(writer, sheet_name='Sheet1', index=False) # index=False avoid using the index \n",
    "\n",
    "# Get the xlsxwriter workbook and worksheet objects.\n",
    "workbook  = writer.book\n",
    "worksheet = writer.sheets['Sheet1']\n",
    "\n",
    "# Add some cell formats.\n",
    "#format1 = workbook.add_format({'num_format': '#,##0.00'}) # set as 2 digites\n",
    "#format2 = workbook.add_format({'num_format': '0%'}) # set as percentage \n",
    "format3 = workbook.add_format({'bold': True, 'font_color': 'red'})  # set bold red\n",
    "\n",
    "# Note: It isn't possible to format any cells that already have a format such\n",
    "# as the index or headers or any cells that contain dates or datetimes.\n",
    "\n",
    "\n",
    "# Set the column width and format.\n",
    "#worksheet.set_column('B:B', 18, format1)\n",
    "# Set the format but not the column width.\n",
    "#worksheet.set_column('C:C', None, format2)\n",
    "\n",
    "# Close the Pandas Excel writer and output the Excel file.\n",
    "writer.save()\n"
   ]
  },
  {
   "cell_type": "markdown",
   "metadata": {},
   "source": [
    "### Filter by years "
   ]
  },
  {
   "cell_type": "markdown",
   "metadata": {},
   "source": [
    "### Within the last 3 years\n",
    "is_2002 =  gapminder['year']==2002"
   ]
  },
  {
   "cell_type": "code",
   "execution_count": null,
   "metadata": {},
   "outputs": [],
   "source": [
    "df_summary.head()"
   ]
  }
 ],
 "metadata": {
  "interpreter": {
   "hash": "f5e9fdce81502866f94d189e2b0635a93b988e5344cdd64bee40a66312f36956"
  },
  "kernelspec": {
   "display_name": "Python 3",
   "language": "python",
   "name": "python3"
  },
  "language_info": {
   "codemirror_mode": {
    "name": "ipython",
    "version": 3
   },
   "file_extension": ".py",
   "mimetype": "text/x-python",
   "name": "python",
   "nbconvert_exporter": "python",
   "pygments_lexer": "ipython3",
   "version": "3.8.8"
  }
 },
 "nbformat": 4,
 "nbformat_minor": 2
}
